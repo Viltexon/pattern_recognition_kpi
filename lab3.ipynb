{
 "cells": [
  {
   "cell_type": "code",
   "execution_count": 11,
   "outputs": [],
   "source": [
    "import cv2\n",
    "import numpy as np\n"
   ],
   "metadata": {
    "collapsed": false,
    "pycharm": {
     "name": "#%%\n"
    }
   }
  },
  {
   "cell_type": "code",
   "execution_count": 12,
   "outputs": [],
   "source": [
    "import time\n",
    "from threading import Thread\n",
    "VideoName = \"saotrailer.mp4\"\n",
    "Compress = \"comressed_video1.npy\"\n",
    "BS = 8 #розмір макроблоку\n",
    "Step = 4 #залежить пошукова область(2*Step-1)\n",
    "S2=1\n",
    "sum_of_err=0\n",
    "\n",
    "\n",
    "def findbias(first, second):\n",
    "    bias = np.zeros((first.shape[0]//BS, first.shape[1]//BS, 2))\n",
    "    onethread(bias, 0, first.shape[0]//BS, first, second, first.shape[1]//BS, sum_of_err)\n",
    "    return bias\n",
    "def onethread(bias, fro, to, first, second, width, sum_of_err):\n",
    "    for i in range(fro, to):\n",
    "        for j in range(width):\n",
    "            S=Step\n",
    "            imin = 0\n",
    "            jmin = 0\n",
    "            while(S > 0):\n",
    "                im, jm, norm= findmindif(first, second, S, i*BS+imin, j*BS+jmin)\n",
    "                imin += im\n",
    "                jmin += jm\n",
    "                S = S // 2\n",
    "            sum_of_err+=norm\n",
    "            bias[i, j, 0] = imin\n",
    "            bias[i, j, 1] = jmin\n",
    "\n",
    "def findmindif(first, second, S, x, y):\n",
    "    block = first[x:x+BS , y:y+BS]\n",
    "    mind = mad(block, second[x:x+BS , y:y+BS])\n",
    "    imin, jmin = 0,0\n",
    "    positions  =  [(i,j) for i in range(-S,S+1,8) for j in range(-S,S+1,8) if (i,j)!=(0,0)]\n",
    "#    positions +=  [(i,j) for i in range(-S2,S2+1) for j in range(-S2,S2+1) if (i,j)!=(0,0)]\n",
    "    for pos in positions:\n",
    "        i,j=pos\n",
    "        if x + i >= 0 and x + i + BS <= second.shape[0] \\\n",
    "                and y + j >= 0 and y + j + BS <= second.shape[1]:\n",
    "            norm = mad(block, second[x+i:x+i+BS,y+j:y+j+BS])\n",
    "            if mind > norm:\n",
    "                mind = norm\n",
    "                imin,jmin = i,j\n",
    "    return imin, jmin, mind\n",
    "\n",
    "def mad(a, b):\n",
    "    return 1/BS**2*np.sum(np.sum(np.abs(a - b), axis=1),axis=0)"
   ],
   "metadata": {
    "collapsed": false,
    "pycharm": {
     "name": "#%%\n"
    }
   }
  },
  {
   "cell_type": "code",
   "execution_count": 13,
   "outputs": [
    {
     "name": "stdout",
     "output_type": "stream",
     "text": [
      "time of encoding: 597.5797\n"
     ]
    }
   ],
   "source": [
    "#Encoder\n",
    "\n",
    "cap = cv2.VideoCapture(VideoName)\n",
    "file = open(Compress , 'wb')\n",
    "\n",
    "start_time = time.time()\n",
    "while(1):\n",
    "    ret, frame1 = cap.read()\n",
    "    shape = frame1.shape\n",
    "    if ret == True:\n",
    "        ret, frame2 = cap.read()\n",
    "        if ret == True:\n",
    "            np.save(file, frame2)\n",
    "            first = cv2.cvtColor(frame1,cv2.COLOR_BGR2GRAY)\n",
    "            second = cv2.cvtColor(frame2,cv2.COLOR_BGR2GRAY)\n",
    "            bias = findbias(second, first)\n",
    "            np.save(file, bias.astype(np.int8))\n",
    "            ret, frame3 = cap.read()\n",
    "            if ret == True:\n",
    "                third = cv2.cvtColor(frame3,cv2.COLOR_BGR2GRAY)\n",
    "                bias = findbias(second, third)\n",
    "                np.save(file, bias.astype(np.int8))\n",
    "            else:\n",
    "                break\n",
    "        else:\n",
    "            np.save(file, frame1)\n",
    "            break\n",
    "    else:\n",
    "        break\n",
    "\n",
    "\n",
    "    k = cv2.waitKey(30) & 0xff\n",
    "    if k == 27:\n",
    "        break\n",
    "\n",
    "print(f\"time of encoding: {round(time.time() - start_time, 4)}\")\n",
    "\n",
    "file.close()\n",
    "cap.release()\n",
    "cv2.destroyAllWindows()"
   ],
   "metadata": {
    "collapsed": false,
    "pycharm": {
     "name": "#%%\n"
    }
   }
  },
  {
   "cell_type": "code",
   "execution_count": 14,
   "outputs": [
    {
     "name": "stdout",
     "output_type": "stream",
     "text": [
      "time of decoding: 64.7088\n"
     ]
    },
    {
     "ename": "TypeError",
     "evalue": "can only concatenate str (not \"int\") to str",
     "output_type": "error",
     "traceback": [
      "\u001B[1;31m---------------------------------------------------------------------------\u001B[0m",
      "\u001B[1;31mTypeError\u001B[0m                                 Traceback (most recent call last)",
      "\u001B[1;32m<ipython-input-14-ffe755c88d1d>\u001B[0m in \u001B[0;36m<module>\u001B[1;34m\u001B[0m\n\u001B[0;32m     48\u001B[0m \u001B[0mcv2\u001B[0m\u001B[1;33m.\u001B[0m\u001B[0mdestroyAllWindows\u001B[0m\u001B[1;33m(\u001B[0m\u001B[1;33m)\u001B[0m\u001B[1;33m\u001B[0m\u001B[1;33m\u001B[0m\u001B[0m\n\u001B[0;32m     49\u001B[0m \u001B[1;33m\u001B[0m\u001B[0m\n\u001B[1;32m---> 50\u001B[1;33m \u001B[0mprint\u001B[0m\u001B[1;33m(\u001B[0m\u001B[1;34m\"Sum or error: \"\u001B[0m\u001B[1;33m+\u001B[0m\u001B[0msum_of_err\u001B[0m\u001B[1;33m)\u001B[0m\u001B[1;33m\u001B[0m\u001B[1;33m\u001B[0m\u001B[0m\n\u001B[0m",
      "\u001B[1;31mTypeError\u001B[0m: can only concatenate str (not \"int\") to str"
     ]
    }
   ],
   "source": [
    "#Decoder\n",
    "file = open(Compress, 'rb')\n",
    "out = cv2.VideoWriter('resultvideo.avi',cv2.VideoWriter_fourcc('M','J','P','G'), 10, (frame1.shape[1],frame1.shape[0]))\n",
    "\n",
    "start_time = time.time()\n",
    "while(1):\n",
    "    try:\n",
    "        frame = np.load(file)\n",
    "        try:\n",
    "            bias = np.load(file)\n",
    "            newframe = frame.copy()\n",
    "            for i in range(bias.shape[0]):\n",
    "                for j in range(bias.shape[1]):\n",
    "                    block = frame[i*BS:(i+1)*BS,j*BS:(j+1)*BS,:]\n",
    "                    newframe[int(i*BS+bias[i][j][0]):int((i+1)*BS+bias[i][j][0]),int(j*BS+bias[i][j][1]):int((j+1)*BS+bias[i][j][1]),:] = block\n",
    "            cv2.imshow('video',newframe)\n",
    "            cv2.imshow('video',frame)\n",
    "            out.write(newframe)\n",
    "            out.write(frame)\n",
    "            try:\n",
    "                bias = np.load(file)\n",
    "                newframe = frame.copy()\n",
    "                for i in range(bias.shape[0]):\n",
    "                    for j in range(bias.shape[1]):\n",
    "                        block = frame[i*BS:(i+1)*BS,j*BS:(j+1)*BS,:]\n",
    "                        newframe[int(i*BS+bias[i][j][0]):int((i+1)*BS+bias[i][j][0]),int(j*BS+bias[i][j][1]):int((j+1)*BS+bias[i][j][1]),:] = block\n",
    "                cv2.imshow('video',newframe)\n",
    "                out.write(newframe)\n",
    "            except ValueError:\n",
    "                break\n",
    "        except ValueError:\n",
    "            cv2.imshow('video',frame)\n",
    "            out.write(frame)\n",
    "            break\n",
    "    except ValueError:\n",
    "        break\n",
    "\n",
    "    #cv2.waitKey(0)\n",
    "    k = cv2.waitKey(30) & 0xff\n",
    "    if k == 27:\n",
    "        break\n",
    "\n",
    "print(f\"time of decoding: {round(time.time() - start_time, 4)}\")\n",
    "\n",
    "file.close()\n",
    "out.release()\n",
    "cap.release()\n",
    "cv2.destroyAllWindows()\n",
    "\n",
    "print(\"Sum or error: \"+sum_of_err)"
   ],
   "metadata": {
    "collapsed": false,
    "pycharm": {
     "name": "#%%\n"
    }
   }
  }
 ],
 "metadata": {
  "kernelspec": {
   "name": "python3",
   "language": "python",
   "display_name": "Python 3"
  }
 },
 "nbformat": 4,
 "nbformat_minor": 4
}